{
 "cells": [
  {
   "cell_type": "markdown",
   "id": "65aa7f36",
   "metadata": {},
   "source": [
    "## Load dataset"
   ]
  },
  {
   "cell_type": "code",
   "execution_count": 1,
   "id": "4afbe51c",
   "metadata": {},
   "outputs": [],
   "source": [
    "import pandas as pd"
   ]
  },
  {
   "cell_type": "code",
   "execution_count": 2,
   "id": "36262302",
   "metadata": {},
   "outputs": [],
   "source": [
    "data = pd.read_csv('../data/interim/data.csv')"
   ]
  },
  {
   "cell_type": "code",
   "execution_count": 3,
   "id": "118c155f",
   "metadata": {},
   "outputs": [
    {
     "data": {
      "text/html": [
       "<div>\n",
       "<style scoped>\n",
       "    .dataframe tbody tr th:only-of-type {\n",
       "        vertical-align: middle;\n",
       "    }\n",
       "\n",
       "    .dataframe tbody tr th {\n",
       "        vertical-align: top;\n",
       "    }\n",
       "\n",
       "    .dataframe thead th {\n",
       "        text-align: right;\n",
       "    }\n",
       "</style>\n",
       "<table border=\"1\" class=\"dataframe\">\n",
       "  <thead>\n",
       "    <tr style=\"text-align: right;\">\n",
       "      <th></th>\n",
       "      <th>user_id</th>\n",
       "      <th>movie_id</th>\n",
       "      <th>rating</th>\n",
       "      <th>movie_title</th>\n",
       "      <th>release_date</th>\n",
       "      <th>unknown</th>\n",
       "      <th>Action</th>\n",
       "      <th>Adventure</th>\n",
       "      <th>Animation</th>\n",
       "      <th>Children</th>\n",
       "      <th>...</th>\n",
       "      <th>occupation_marketing</th>\n",
       "      <th>occupation_none</th>\n",
       "      <th>occupation_other</th>\n",
       "      <th>occupation_programmer</th>\n",
       "      <th>occupation_retired</th>\n",
       "      <th>occupation_salesman</th>\n",
       "      <th>occupation_scientist</th>\n",
       "      <th>occupation_student</th>\n",
       "      <th>occupation_technician</th>\n",
       "      <th>occupation_writer</th>\n",
       "    </tr>\n",
       "  </thead>\n",
       "  <tbody>\n",
       "    <tr>\n",
       "      <th>0</th>\n",
       "      <td>196</td>\n",
       "      <td>242</td>\n",
       "      <td>3</td>\n",
       "      <td>Kolya (1996)</td>\n",
       "      <td>24-Jan-1997</td>\n",
       "      <td>0</td>\n",
       "      <td>0</td>\n",
       "      <td>0</td>\n",
       "      <td>0</td>\n",
       "      <td>0</td>\n",
       "      <td>...</td>\n",
       "      <td>0</td>\n",
       "      <td>0</td>\n",
       "      <td>0</td>\n",
       "      <td>0</td>\n",
       "      <td>0</td>\n",
       "      <td>0</td>\n",
       "      <td>0</td>\n",
       "      <td>0</td>\n",
       "      <td>0</td>\n",
       "      <td>1</td>\n",
       "    </tr>\n",
       "    <tr>\n",
       "      <th>1</th>\n",
       "      <td>196</td>\n",
       "      <td>257</td>\n",
       "      <td>2</td>\n",
       "      <td>Men in Black (1997)</td>\n",
       "      <td>04-Jul-1997</td>\n",
       "      <td>0</td>\n",
       "      <td>1</td>\n",
       "      <td>1</td>\n",
       "      <td>0</td>\n",
       "      <td>0</td>\n",
       "      <td>...</td>\n",
       "      <td>0</td>\n",
       "      <td>0</td>\n",
       "      <td>0</td>\n",
       "      <td>0</td>\n",
       "      <td>0</td>\n",
       "      <td>0</td>\n",
       "      <td>0</td>\n",
       "      <td>0</td>\n",
       "      <td>0</td>\n",
       "      <td>1</td>\n",
       "    </tr>\n",
       "    <tr>\n",
       "      <th>2</th>\n",
       "      <td>196</td>\n",
       "      <td>111</td>\n",
       "      <td>4</td>\n",
       "      <td>Truth About Cats &amp; Dogs, The (1996)</td>\n",
       "      <td>26-Apr-1996</td>\n",
       "      <td>0</td>\n",
       "      <td>0</td>\n",
       "      <td>0</td>\n",
       "      <td>0</td>\n",
       "      <td>0</td>\n",
       "      <td>...</td>\n",
       "      <td>0</td>\n",
       "      <td>0</td>\n",
       "      <td>0</td>\n",
       "      <td>0</td>\n",
       "      <td>0</td>\n",
       "      <td>0</td>\n",
       "      <td>0</td>\n",
       "      <td>0</td>\n",
       "      <td>0</td>\n",
       "      <td>1</td>\n",
       "    </tr>\n",
       "    <tr>\n",
       "      <th>3</th>\n",
       "      <td>196</td>\n",
       "      <td>25</td>\n",
       "      <td>4</td>\n",
       "      <td>Birdcage, The (1996)</td>\n",
       "      <td>08-Mar-1996</td>\n",
       "      <td>0</td>\n",
       "      <td>0</td>\n",
       "      <td>0</td>\n",
       "      <td>0</td>\n",
       "      <td>0</td>\n",
       "      <td>...</td>\n",
       "      <td>0</td>\n",
       "      <td>0</td>\n",
       "      <td>0</td>\n",
       "      <td>0</td>\n",
       "      <td>0</td>\n",
       "      <td>0</td>\n",
       "      <td>0</td>\n",
       "      <td>0</td>\n",
       "      <td>0</td>\n",
       "      <td>1</td>\n",
       "    </tr>\n",
       "    <tr>\n",
       "      <th>4</th>\n",
       "      <td>196</td>\n",
       "      <td>382</td>\n",
       "      <td>4</td>\n",
       "      <td>Adventures of Priscilla, Queen of the Desert, ...</td>\n",
       "      <td>01-Jan-1994</td>\n",
       "      <td>0</td>\n",
       "      <td>0</td>\n",
       "      <td>0</td>\n",
       "      <td>0</td>\n",
       "      <td>0</td>\n",
       "      <td>...</td>\n",
       "      <td>0</td>\n",
       "      <td>0</td>\n",
       "      <td>0</td>\n",
       "      <td>0</td>\n",
       "      <td>0</td>\n",
       "      <td>0</td>\n",
       "      <td>0</td>\n",
       "      <td>0</td>\n",
       "      <td>0</td>\n",
       "      <td>1</td>\n",
       "    </tr>\n",
       "  </tbody>\n",
       "</table>\n",
       "<p>5 rows × 47 columns</p>\n",
       "</div>"
      ],
      "text/plain": [
       "   user_id  movie_id  rating  \\\n",
       "0      196       242       3   \n",
       "1      196       257       2   \n",
       "2      196       111       4   \n",
       "3      196        25       4   \n",
       "4      196       382       4   \n",
       "\n",
       "                                         movie_title release_date  unknown  \\\n",
       "0                                       Kolya (1996)  24-Jan-1997        0   \n",
       "1                                Men in Black (1997)  04-Jul-1997        0   \n",
       "2                Truth About Cats & Dogs, The (1996)  26-Apr-1996        0   \n",
       "3                               Birdcage, The (1996)  08-Mar-1996        0   \n",
       "4  Adventures of Priscilla, Queen of the Desert, ...  01-Jan-1994        0   \n",
       "\n",
       "   Action  Adventure  Animation  Children  ...  occupation_marketing  \\\n",
       "0       0          0          0         0  ...                     0   \n",
       "1       1          1          0         0  ...                     0   \n",
       "2       0          0          0         0  ...                     0   \n",
       "3       0          0          0         0  ...                     0   \n",
       "4       0          0          0         0  ...                     0   \n",
       "\n",
       "   occupation_none  occupation_other  occupation_programmer  \\\n",
       "0                0                 0                      0   \n",
       "1                0                 0                      0   \n",
       "2                0                 0                      0   \n",
       "3                0                 0                      0   \n",
       "4                0                 0                      0   \n",
       "\n",
       "   occupation_retired  occupation_salesman  occupation_scientist  \\\n",
       "0                   0                    0                     0   \n",
       "1                   0                    0                     0   \n",
       "2                   0                    0                     0   \n",
       "3                   0                    0                     0   \n",
       "4                   0                    0                     0   \n",
       "\n",
       "   occupation_student  occupation_technician  occupation_writer  \n",
       "0                   0                      0                  1  \n",
       "1                   0                      0                  1  \n",
       "2                   0                      0                  1  \n",
       "3                   0                      0                  1  \n",
       "4                   0                      0                  1  \n",
       "\n",
       "[5 rows x 47 columns]"
      ]
     },
     "execution_count": 3,
     "metadata": {},
     "output_type": "execute_result"
    }
   ],
   "source": [
    "data.head()"
   ]
  },
  {
   "cell_type": "markdown",
   "id": "ba6a2350",
   "metadata": {},
   "source": [
    "## Split data"
   ]
  },
  {
   "cell_type": "code",
   "execution_count": 4,
   "id": "989f0c35",
   "metadata": {},
   "outputs": [],
   "source": [
    "from sklearn.model_selection import train_test_split\n",
    "\n",
    "# Split on the train and test data\n",
    "train, test = train_test_split(data, test_size=0.2, random_state=42)\n",
    "\n",
    "# Split on the train and validation data\n",
    "train, val = train_test_split(train, test_size=0.2, random_state=42)"
   ]
  },
  {
   "cell_type": "code",
   "execution_count": 5,
   "id": "6fbab501",
   "metadata": {},
   "outputs": [],
   "source": [
    "# Save test data to the benchmark folder for evaluation\n",
    "\n",
    "test.to_csv('../benchmark/data/test.csv', index=False)"
   ]
  },
  {
   "cell_type": "markdown",
   "id": "bc054722",
   "metadata": {},
   "source": [
    "## Recommendation system using pytorch\n",
    "\n",
    "A collaborative filtering approach with an embedding layer for user and movie IDs, and a fully connected neural network for additional features like genre, release date, age, gender, and occupation."
   ]
  },
  {
   "cell_type": "code",
   "execution_count": 6,
   "id": "daa0a71e",
   "metadata": {},
   "outputs": [],
   "source": [
    "import torch\n",
    "import torch.nn as nn\n",
    "import torch.optim as optim\n",
    "import numpy as np\n",
    "from torch.utils.data import DataLoader, TensorDataset"
   ]
  },
  {
   "cell_type": "code",
   "execution_count": 7,
   "id": "7452ef18",
   "metadata": {},
   "outputs": [],
   "source": [
    "# Columns with metadata\n",
    "\n",
    "columns = list(data)\n",
    "columns = columns[5:]"
   ]
  },
  {
   "cell_type": "code",
   "execution_count": 8,
   "id": "a458eb98",
   "metadata": {},
   "outputs": [],
   "source": [
    "# Convert data to tensors\n",
    "\n",
    "train_user_tensor = torch.LongTensor(train['user_id'].values)\n",
    "train_movie_tensor = torch.LongTensor(train['movie_id'].values)\n",
    "train_features_tensor = torch.FloatTensor(train[columns].values)\n",
    "train_ratings_tensor = torch.FloatTensor(train['rating'].values)\n",
    "\n",
    "val_user_tensor = torch.LongTensor(val['user_id'].values)\n",
    "val_movie_tensor = torch.LongTensor(val['movie_id'].values)\n",
    "val_features_tensor = torch.FloatTensor(val[columns].values)\n",
    "val_ratings_tensor = torch.FloatTensor(val['rating'].values)"
   ]
  },
  {
   "cell_type": "code",
   "execution_count": 9,
   "id": "9159db0e",
   "metadata": {},
   "outputs": [],
   "source": [
    "# Define the model\n",
    "class MovieRecommendationModel(nn.Module):\n",
    "    def __init__(self, num_users, num_movies, num_features, embedding_dim=50, hidden_dim=100):\n",
    "        super(MovieRecommendationModel, self).__init__()\n",
    "\n",
    "        # Embedding layers for user and movie IDs\n",
    "        self.user_embedding = nn.Embedding(num_users, embedding_dim)\n",
    "        self.movie_embedding = nn.Embedding(num_movies, embedding_dim)\n",
    "\n",
    "        # Fully connected layers for additional features\n",
    "        self.fc = nn.Sequential(\n",
    "            nn.Linear(embedding_dim * 2 + num_features, hidden_dim),\n",
    "            nn.ReLU(),\n",
    "            nn.Linear(hidden_dim, 1)\n",
    "        )\n",
    "\n",
    "    def forward(self, user, movie, features):\n",
    "        # Embed user and movie IDs\n",
    "        user_embedding = self.user_embedding(user)\n",
    "        movie_embedding = self.movie_embedding(movie)\n",
    "\n",
    "        # Concatenate user and movie embeddings with additional features\n",
    "        input_features = torch.cat([user_embedding, movie_embedding, features], dim=1)\n",
    "\n",
    "        # Forward pass through fully connected layers\n",
    "        output = self.fc(input_features)\n",
    "\n",
    "        return output.squeeze()"
   ]
  },
  {
   "cell_type": "code",
   "execution_count": 10,
   "id": "5eab5767",
   "metadata": {},
   "outputs": [],
   "source": [
    "# Instantiate the model\n",
    "model = MovieRecommendationModel(num_users=len(data['user_id'].unique()) + 1,\n",
    "                                 num_movies=len(data['movie_id'].unique()) + 1,\n",
    "                                 num_features=train_features_tensor.shape[1])"
   ]
  },
  {
   "cell_type": "code",
   "execution_count": 11,
   "id": "0e6f4710",
   "metadata": {},
   "outputs": [],
   "source": [
    "# Loss function and optimizer\n",
    "criterion = nn.MSELoss()\n",
    "optimizer = optim.Adam(model.parameters(), lr=0.01)"
   ]
  },
  {
   "cell_type": "code",
   "execution_count": 12,
   "id": "434f2e70",
   "metadata": {},
   "outputs": [
    {
     "name": "stdout",
     "output_type": "stream",
     "text": [
      "Epoch [1/50], Loss (Train): 13.0095, Loss (Validation): 4.8973\n",
      "Epoch [2/50], Loss (Train): 4.8406, Loss (Validation): 2.0674\n",
      "Epoch [3/50], Loss (Train): 2.0636, Loss (Validation): 4.3485\n",
      "Epoch [4/50], Loss (Train): 4.3880, Loss (Validation): 4.6240\n",
      "Epoch [5/50], Loss (Train): 4.6561, Loss (Validation): 3.2324\n",
      "Epoch [6/50], Loss (Train): 3.2416, Loss (Validation): 2.1618\n",
      "Epoch [7/50], Loss (Train): 2.1502, Loss (Validation): 1.8915\n",
      "Epoch [8/50], Loss (Train): 1.8631, Loss (Validation): 2.1055\n",
      "Epoch [9/50], Loss (Train): 2.0661, Loss (Validation): 2.3941\n",
      "Epoch [10/50], Loss (Train): 2.3490, Loss (Validation): 2.5203\n",
      "Epoch [11/50], Loss (Train): 2.4740, Loss (Validation): 2.4195\n",
      "Epoch [12/50], Loss (Train): 2.3747, Loss (Validation): 2.1383\n",
      "Epoch [13/50], Loss (Train): 2.0971, Loss (Validation): 1.7961\n",
      "Epoch [14/50], Loss (Train): 1.7601, Loss (Validation): 1.5597\n",
      "Epoch [15/50], Loss (Train): 1.5293, Loss (Validation): 1.5827\n",
      "Epoch [16/50], Loss (Train): 1.5556, Loss (Validation): 1.7051\n",
      "Epoch [17/50], Loss (Train): 1.6792, Loss (Validation): 1.6737\n",
      "Epoch [18/50], Loss (Train): 1.6493, Loss (Validation): 1.5289\n",
      "Epoch [19/50], Loss (Train): 1.5051, Loss (Validation): 1.3879\n",
      "Epoch [20/50], Loss (Train): 1.3629, Loss (Validation): 1.3166\n",
      "Epoch [21/50], Loss (Train): 1.2883, Loss (Validation): 1.3101\n",
      "Epoch [22/50], Loss (Train): 1.2774, Loss (Validation): 1.3312\n",
      "Epoch [23/50], Loss (Train): 1.2939, Loss (Validation): 1.3443\n",
      "Epoch [24/50], Loss (Train): 1.3027, Loss (Validation): 1.3298\n",
      "Epoch [25/50], Loss (Train): 1.2845, Loss (Validation): 1.2875\n",
      "Epoch [26/50], Loss (Train): 1.2391, Loss (Validation): 1.2343\n",
      "Epoch [27/50], Loss (Train): 1.1829, Loss (Validation): 1.1965\n",
      "Epoch [28/50], Loss (Train): 1.1418, Loss (Validation): 1.1919\n",
      "Epoch [29/50], Loss (Train): 1.1334, Loss (Validation): 1.1974\n",
      "Epoch [30/50], Loss (Train): 1.1353, Loss (Validation): 1.1812\n",
      "Epoch [31/50], Loss (Train): 1.1171, Loss (Validation): 1.1470\n",
      "Epoch [32/50], Loss (Train): 1.0821, Loss (Validation): 1.1155\n",
      "Epoch [33/50], Loss (Train): 1.0507, Loss (Validation): 1.0982\n",
      "Epoch [34/50], Loss (Train): 1.0341, Loss (Validation): 1.0920\n",
      "Epoch [35/50], Loss (Train): 1.0285, Loss (Validation): 1.0874\n",
      "Epoch [36/50], Loss (Train): 1.0240, Loss (Validation): 1.0775\n",
      "Epoch [37/50], Loss (Train): 1.0136, Loss (Validation): 1.0616\n",
      "Epoch [38/50], Loss (Train): 0.9967, Loss (Validation): 1.0441\n",
      "Epoch [39/50], Loss (Train): 0.9777, Loss (Validation): 1.0309\n",
      "Epoch [40/50], Loss (Train): 0.9627, Loss (Validation): 1.0241\n",
      "Epoch [41/50], Loss (Train): 0.9540, Loss (Validation): 1.0202\n",
      "Epoch [42/50], Loss (Train): 0.9483, Loss (Validation): 1.0134\n",
      "Epoch [43/50], Loss (Train): 0.9399, Loss (Validation): 1.0022\n",
      "Epoch [44/50], Loss (Train): 0.9273, Loss (Validation): 0.9902\n",
      "Epoch [45/50], Loss (Train): 0.9143, Loss (Validation): 0.9814\n",
      "Epoch [46/50], Loss (Train): 0.9046, Loss (Validation): 0.9763\n",
      "Epoch [47/50], Loss (Train): 0.8986, Loss (Validation): 0.9725\n",
      "Epoch [48/50], Loss (Train): 0.8936, Loss (Validation): 0.9676\n",
      "Epoch [49/50], Loss (Train): 0.8871, Loss (Validation): 0.9614\n",
      "Epoch [50/50], Loss (Train): 0.8790, Loss (Validation): 0.9555\n"
     ]
    }
   ],
   "source": [
    "# Lists to store training and validation losses for each epoch\n",
    "train_losses = []\n",
    "val_losses = []\n",
    "\n",
    "best_val_loss = float('inf')  # Initialize with a high value\n",
    "\n",
    "# Training loop\n",
    "num_epochs = 50\n",
    "for epoch in range(num_epochs):\n",
    "    model.train()\n",
    "    optimizer.zero_grad()\n",
    "\n",
    "    # Forward pass on training set\n",
    "    predictions_train = model(train_user_tensor, train_movie_tensor, train_features_tensor)\n",
    "    loss_train = criterion(predictions_train, train_ratings_tensor)\n",
    "\n",
    "    # Backward pass and optimization\n",
    "    loss_train.backward()\n",
    "    optimizer.step()\n",
    "\n",
    "    # Forward pass on validation set\n",
    "    model.eval()\n",
    "    with torch.no_grad():\n",
    "        predictions_val = model(val_user_tensor, val_movie_tensor, val_features_tensor)\n",
    "        loss_val = criterion(predictions_val, val_ratings_tensor)\n",
    "        \n",
    "    if loss_val < best_val_loss:\n",
    "        best_val_loss = loss_val\n",
    "\n",
    "        # Save the model state\n",
    "        torch.save(model, '../models/model.pt')\n",
    "        \n",
    "    # Append losses to the lists\n",
    "    train_losses.append(loss_train.item())\n",
    "    val_losses.append(loss_val.item())\n",
    "\n",
    "    print(f'Epoch [{epoch + 1}/{num_epochs}], Loss (Train): {loss_train.item():.4f}, Loss (Validation): {loss_val.item():.4f}')\n"
   ]
  },
  {
   "cell_type": "code",
   "execution_count": 13,
   "id": "b460c491",
   "metadata": {},
   "outputs": [
    {
     "data": {
      "image/png": "[encoded data removed]",
      "text/plain": [
       "<Figure size 640x480 with 1 Axes>"
      ]
     },
     "metadata": {},
     "output_type": "display_data"
    }
   ],
   "source": [
    "import matplotlib.pyplot as plt\n",
    "\n",
    "# Plot the training and validation loss graph\n",
    "\n",
    "plt.plot(range(1, num_epochs + 1), train_losses, label='Training Loss')\n",
    "plt.plot(range(1, num_epochs + 1), val_losses, label='Validation Loss')\n",
    "plt.xlabel('Epoch')\n",
    "plt.ylabel('Loss')\n",
    "plt.title('Training and Validation Loss Over Epochs')\n",
    "plt.legend()\n",
    "plt.show()"
   ]
  },
  {
   "cell_type": "markdown",
   "id": "f270dccf",
   "metadata": {},
   "source": [
    "## Evaluate on the test data"
   ]
  },
  {
   "cell_type": "code",
   "execution_count": 14,
   "id": "5eba91d7",
   "metadata": {},
   "outputs": [],
   "source": [
    "from sklearn.metrics import mean_squared_error\n",
    "from math import sqrt"
   ]
  },
  {
   "cell_type": "code",
   "execution_count": 15,
   "id": "d115c670",
   "metadata": {},
   "outputs": [],
   "source": [
    "test_user_tensor = torch.LongTensor(test['user_id'].values)\n",
    "test_movie_tensor = torch.LongTensor(test['movie_id'].values)\n",
    "test_features_tensor = torch.FloatTensor(test[columns].values)\n",
    "test_ratings_tensor = torch.FloatTensor(test['rating'].values)"
   ]
  },
  {
   "cell_type": "code",
   "execution_count": 16,
   "id": "6771ce31",
   "metadata": {},
   "outputs": [
    {
     "name": "stdout",
     "output_type": "stream",
     "text": [
      "RMSE on Test Set: 0.9834\n"
     ]
    }
   ],
   "source": [
    "model.eval()\n",
    "with torch.no_grad():\n",
    "    predictions_test = model(test_user_tensor, test_movie_tensor, test_features_tensor)\n",
    "    loss_test = criterion(predictions_test, test_ratings_tensor)\n",
    "\n",
    "# Calculate RMSE for the test set\n",
    "rmse_test = sqrt(loss_test.item())\n",
    "print(f'RMSE on Test Set: {rmse_test:.4f}')"
   ]
  },
  {
   "cell_type": "markdown",
   "id": "db15d96d",
   "metadata": {},
   "source": [
    "## Get top k recommendations"
   ]
  },
  {
   "cell_type": "code",
   "execution_count": 17,
   "id": "524fdd1c",
   "metadata": {},
   "outputs": [],
   "source": [
    "def get_top_k_recommendations(user_id, k=10):\n",
    "    # Get all movie IDs\n",
    "    all_movie_ids = np.arange(1, len(data['movie_id'].unique()) + 1)\n",
    "\n",
    "    # Remove movies already rated by the user\n",
    "    movies_rated_by_user = train[train['user_id'] == user_id]['movie_id'].values\n",
    "    movies_to_predict = np.setdiff1d(all_movie_ids, movies_rated_by_user)\n",
    "\n",
    "    # Create tensors for the user's features\n",
    "    user_features = train_features_tensor[user_id - 1].unsqueeze(0)\n",
    "\n",
    "    # Make predictions for movies not rated by the user\n",
    "    predictions = []\n",
    "    for movie_id in movies_to_predict:\n",
    "        movie = torch.LongTensor([movie_id])\n",
    "        predicted_rating = model(torch.LongTensor([user_id]), movie, user_features)\n",
    "        predictions.append((movie_id, predicted_rating.item()))\n",
    "\n",
    "    # Sort predictions by estimated rating\n",
    "    predictions.sort(key=lambda x: x[1], reverse=True)\n",
    "\n",
    "    # Get top k movie recommendations\n",
    "    top_k_recommendations = predictions[:k]\n",
    "\n",
    "    # Get movie titles for recommendations\n",
    "    recommended_movie_titles = [data[data['movie_id'] == pred[0]]['movie_title'].values[0] for pred in top_k_recommendations]\n",
    "\n",
    "    return recommended_movie_titles"
   ]
  },
  {
   "cell_type": "code",
   "execution_count": 18,
   "id": "03dc4c84",
   "metadata": {},
   "outputs": [
    {
     "name": "stdout",
     "output_type": "stream",
     "text": [
      "Top 5 Movie Recommendations for User 1:\n",
      "\n",
      "1. Dangerous Beauty (1998)\n",
      "2. Wrong Trousers, The (1993)\n",
      "3. Great Day in Harlem, A (1994)\n",
      "4. Vertigo (1958)\n",
      "5. Nico Icon (1995)\n"
     ]
    }
   ],
   "source": [
    "user_id = 1\n",
    "top_recommendations = get_top_k_recommendations(user_id, k=5)\n",
    "print(f\"Top 5 Movie Recommendations for User {user_id}:\\n\")\n",
    "for i, movie_title in enumerate(top_recommendations, start=1):\n",
    "    print(f\"{i}. {movie_title}\")"
   ]
  },
  {
   "cell_type": "code",
   "execution_count": 19,
   "id": "1580ccd5",
   "metadata": {},
   "outputs": [
    {
     "name": "stdout",
     "output_type": "stream",
     "text": [
      "Top 5 Movie Recommendations for User 6:\n",
      "\n",
      "1. Nico Icon (1995)\n",
      "2. Two or Three Things I Know About Her (1966)\n",
      "3. Star Kid (1997)\n",
      "4. To Kill a Mockingbird (1962)\n",
      "5. Raiders of the Lost Ark (1981)\n"
     ]
    }
   ],
   "source": [
    "user_id = 6\n",
    "top_recommendations = get_top_k_recommendations(user_id, k=5)\n",
    "print(f\"Top 5 Movie Recommendations for User {user_id}:\\n\")\n",
    "for i, movie_title in enumerate(top_recommendations, start=1):\n",
    "    print(f\"{i}. {movie_title}\")"
   ]
  },
  {
   "cell_type": "code",
   "execution_count": 20,
   "id": "1a1ed1f0",
   "metadata": {},
   "outputs": [
    {
     "name": "stdout",
     "output_type": "stream",
     "text": [
      "Top 5 Movie Recommendations for User 17:\n",
      "\n",
      "1. Sting, The (1973)\n",
      "2. Raiders of the Lost Ark (1981)\n",
      "3. Leading Man, The (1996)\n",
      "4. To Kill a Mockingbird (1962)\n",
      "5. Delicatessen (1991)\n"
     ]
    }
   ],
   "source": [
    "user_id = 17\n",
    "top_recommendations = get_top_k_recommendations(user_id, k=5)\n",
    "print(f\"Top 5 Movie Recommendations for User {user_id}:\\n\")\n",
    "for i, movie_title in enumerate(top_recommendations, start=1):\n",
    "    print(f\"{i}. {movie_title}\")"
   ]
  },
  {
   "cell_type": "code",
   "execution_count": null,
   "id": "820471c7",
   "metadata": {},
   "outputs": [],
   "source": []
  }
 ],
 "metadata": {
  "kernelspec": {
   "display_name": "Python 3 (ipykernel)",
   "language": "python",
   "name": "python3"
  },
  "language_info": {
   "codemirror_mode": {
    "name": "ipython",
    "version": 3
   },
   "file_extension": ".py",
   "mimetype": "text/x-python",
   "name": "python",
   "nbconvert_exporter": "python",
   "pygments_lexer": "ipython3",
   "version": "3.9.2"
  }
 },
 "nbformat": 4,
 "nbformat_minor": 5
}
